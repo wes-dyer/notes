{
 "cells": [
  {
   "cell_type": "markdown",
   "metadata": {},
   "source": [
    "### While loops"
   ]
  },
  {
   "cell_type": "code",
   "execution_count": 2,
   "metadata": {},
   "outputs": [
    {
     "name": "stdout",
     "output_type": "stream",
     "text": [
      "0\n",
      "1\n",
      "2\n"
     ]
    }
   ],
   "source": [
    "A = 0\n",
    "while A < 3:\n",
    "    print(A)\n",
    "    A += 1 # overriding value of A"
   ]
  },
  {
   "cell_type": "code",
   "execution_count": 2,
   "metadata": {},
   "outputs": [],
   "source": [
    "## Guessing the number "
   ]
  },
  {
   "cell_type": "code",
   "execution_count": 15,
   "metadata": {},
   "outputs": [],
   "source": [
    "import random \n",
    "import math"
   ]
  },
  {
   "cell_type": "code",
   "execution_count": 2,
   "metadata": {},
   "outputs": [
    {
     "name": "stdin",
     "output_type": "stream",
     "text": [
      "Guess a number between 1 and 10 1\n"
     ]
    },
    {
     "name": "stdout",
     "output_type": "stream",
     "text": [
      "Try again!\n"
     ]
    },
    {
     "name": "stdin",
     "output_type": "stream",
     "text": [
      "Guess a number between 1 and 10 2\n"
     ]
    },
    {
     "name": "stdout",
     "output_type": "stream",
     "text": [
      "Try again!\n"
     ]
    },
    {
     "name": "stdin",
     "output_type": "stream",
     "text": [
      "Guess a number between 1 and 10 3\n"
     ]
    },
    {
     "name": "stdout",
     "output_type": "stream",
     "text": [
      "Try again!\n"
     ]
    },
    {
     "name": "stdin",
     "output_type": "stream",
     "text": [
      "Guess a number between 1 and 10 4\n"
     ]
    },
    {
     "name": "stdout",
     "output_type": "stream",
     "text": [
      "You guessed it right 4\n"
     ]
    }
   ],
   "source": [
    "\n",
    "\n",
    "min_value = 1\n",
    "max_value = 10\n",
    "computer_number = random.randint(min_value, max_value)\n",
    "user_guess = ''\n",
    "\n",
    "while computer_number != user_guess:\n",
    "    user_guess = int(input('Guess a number between 1 and 10'))\n",
    "    \n",
    "    if user_guess != computer_number:\n",
    "        print('Try again!')\n",
    "    else:\n",
    "        print('You guessed it right', computer_number)\n",
    "        break"
   ]
  },
  {
   "cell_type": "markdown",
   "metadata": {},
   "source": [
    "### Mixing solute problem "
   ]
  },
  {
   "cell_type": "code",
   "execution_count": 3,
   "metadata": {},
   "outputs": [],
   "source": [
    "# a 1500 gallon tank initially contains 600 gallons of water with 5 lbs of salt dissolved in it. \n",
    "# Water enters the tank at a rate of 9gal/hr and the the water entering the tank has a salt concentration of 1/5(1+cos(t)) lbs/gal. \n",
    "#if a well-mixed solution leaves the tank at a rate of 6 gal/hr. \n",
    "\n",
    "# how long does it take for the tank to overflow?\n",
    "#how much salt (total amount in lbs) is in the entire tank when it overflow?\n",
    "\n",
    "#Assume each iteration is equivalent to on hour"
   ]
  },
  {
   "cell_type": "code",
   "execution_count": 30,
   "metadata": {},
   "outputs": [
    {
     "name": "stdout",
     "output_type": "stream",
     "text": [
      "hours 300\n",
      "tank level when full 1500\n",
      "mass of salt when full 280 lbs\n"
     ]
    }
   ],
   "source": [
    "#inital conditions\n",
    "tank_capacity = 1500 # gal\n",
    "tank_level = 600 # gal\n",
    "inflow = 9 #gal/hr\n",
    "outflow = 6 #gal/hr\n",
    "salt_mass = 5 # lbs\n",
    "counter_hours = 0\n",
    "while tank_level < tank_capacity:\n",
    "\n",
    "# salt amount\n",
    "    salt_inflow = 1/5 * (1 + math.cos(counter_hours)) * inflow\n",
    "    salt_outflow = salt_mass / tank_level * outflow\n",
    "    salt_mass = salt_mass + salt_inflow - salt_outflow\n",
    "\n",
    "#water level \n",
    "\n",
    "    tank_level = tank_level + inflow - outflow\n",
    "    counter_hours = counter_hours + 1 #count_hours + 1\n",
    "    \n",
    "print('hours',counter_hours)\n",
    "print('tank level when full', tank_level)\n",
    "print(\"mass of salt when full\", round(salt_mass),'lbs')"
   ]
  },
  {
   "cell_type": "code",
   "execution_count": null,
   "metadata": {},
   "outputs": [],
   "source": []
  },
  {
   "cell_type": "code",
   "execution_count": null,
   "metadata": {},
   "outputs": [],
   "source": []
  },
  {
   "cell_type": "code",
   "execution_count": null,
   "metadata": {},
   "outputs": [],
   "source": []
  }
 ],
 "metadata": {
  "kernelspec": {
   "display_name": "Python 3",
   "language": "python",
   "name": "python3"
  },
  "language_info": {
   "codemirror_mode": {
    "name": "ipython",
    "version": 3
   },
   "file_extension": ".py",
   "mimetype": "text/x-python",
   "name": "python",
   "nbconvert_exporter": "python",
   "pygments_lexer": "ipython3",
   "version": "3.7.4"
  }
 },
 "nbformat": 4,
 "nbformat_minor": 4
}
