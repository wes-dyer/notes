{
 "cells": [
  {
   "cell_type": "code",
   "execution_count": 2,
   "metadata": {},
   "outputs": [
    {
     "name": "stdout",
     "output_type": "stream",
     "text": [
      "<class 'list'>\n"
     ]
    }
   ],
   "source": [
    "# LIST \n",
    "list_primes = [2, 3, 4, 7, 11]\n",
    "print(type(list_primes))"
   ]
  },
  {
   "cell_type": "code",
   "execution_count": 5,
   "metadata": {},
   "outputs": [
    {
     "name": "stdout",
     "output_type": "stream",
     "text": [
      "[31, 37, 41]\n"
     ]
    }
   ],
   "source": [
    "list_primes = [31, 37, 41] # list are mutable and tuple are non-tuple\n",
    "print(list_primes)"
   ]
  },
  {
   "cell_type": "code",
   "execution_count": 9,
   "metadata": {},
   "outputs": [
    {
     "name": "stdout",
     "output_type": "stream",
     "text": [
      "[1, 2, 3, 4, ['five', 'six']]\n"
     ]
    },
    {
     "data": {
      "text/plain": [
       "['five', 'six']"
      ]
     },
     "execution_count": 9,
     "metadata": {},
     "output_type": "execute_result"
    }
   ],
   "source": [
    "mixed_list = [1, 2, 3, 4,['five', 'six']]\n",
    "print(mixed_list)\n",
    "mixed_list [4] # one less than bc starts at 0 "
   ]
  },
  {
   "cell_type": "code",
   "execution_count": 12,
   "metadata": {},
   "outputs": [
    {
     "name": "stdout",
     "output_type": "stream",
     "text": [
      "[1, 2, 3, 4, ['five', 'six']]\n"
     ]
    },
    {
     "data": {
      "text/plain": [
       "'f'"
      ]
     },
     "execution_count": 12,
     "metadata": {},
     "output_type": "execute_result"
    }
   ],
   "source": [
    "#retrive just the f in five \n",
    "mixed_list = [1, 2, 3, 4,['five', 'six']]\n",
    "print(mixed_list)\n",
    "mixed_list [4] [0] [0]"
   ]
  },
  {
   "cell_type": "code",
   "execution_count": 1,
   "metadata": {},
   "outputs": [
    {
     "name": "stdout",
     "output_type": "stream",
     "text": [
      "[[1, 2, 3], [4, 5, 6]]\n"
     ]
    }
   ],
   "source": [
    "# Creating a 2D array\n",
    "A = [[1,2,3], [4,5,6]]\n",
    "print(A)"
   ]
  },
  {
   "cell_type": "code",
   "execution_count": 12,
   "metadata": {},
   "outputs": [
    {
     "name": "stdout",
     "output_type": "stream",
     "text": [
      "['Mollisols', 'Alfisols']\n",
      "['Mollisols', 'Alfisols', 'Andisols']\n"
     ]
    }
   ],
   "source": [
    "# Append items to list\n",
    "soil_orders = ['Mollisols','Alfisols']\n",
    "print(soil_orders)\n",
    "soil_orders.append('Andisols')\n",
    "print(soil_orders)"
   ]
  },
  {
   "cell_type": "code",
   "execution_count": 13,
   "metadata": {},
   "outputs": [
    {
     "name": "stdout",
     "output_type": "stream",
     "text": [
      "['Mollisols', 'Alfisols', 'Andisols', ['Spodosolds', 'Oxisols']]\n"
     ]
    }
   ],
   "source": [
    "extra_soils = ['Spodosolds', 'Oxisols']\n",
    "soil_orders.append(extra_soils)\n",
    "print(soil_orders)"
   ]
  },
  {
   "cell_type": "code",
   "execution_count": 19,
   "metadata": {},
   "outputs": [
    {
     "name": "stdout",
     "output_type": "stream",
     "text": [
      "['Mollisols', 'Alfisols', 'Andisols', ['Spodosolds', 'Oxisols'], 'Spodosolds', 'Oxisols', 'Spodosolds', 'Oxisols']\n"
     ]
    }
   ],
   "source": [
    "soil_orders.extend(extra_soils) #############################################\n",
    "print(soil_orders)"
   ]
  },
  {
   "cell_type": "code",
   "execution_count": 6,
   "metadata": {},
   "outputs": [
    {
     "data": {
      "text/plain": [
       "'Alfisols'"
      ]
     },
     "execution_count": 6,
     "metadata": {},
     "output_type": "execute_result"
    }
   ],
   "source": [
    "soil_orders.pop(1) #returns deleted item"
   ]
  },
  {
   "cell_type": "code",
   "execution_count": 7,
   "metadata": {},
   "outputs": [
    {
     "name": "stdout",
     "output_type": "stream",
     "text": [
      "['Mollisols', 'Andisols', ['Spodosolds', 'Oxisols'], 'Spodosolds', 'Oxisols']\n"
     ]
    }
   ],
   "source": [
    "print(soil_orders)"
   ]
  },
  {
   "cell_type": "code",
   "execution_count": 11,
   "metadata": {},
   "outputs": [
    {
     "name": "stdout",
     "output_type": "stream",
     "text": [
      "<class 'tuple'>\n"
     ]
    }
   ],
   "source": [
    "# TUPLES \n",
    "my_tuple = (1,2,3)\n",
    "print(type(my_tuple))"
   ]
  },
  {
   "cell_type": "code",
   "execution_count": 15,
   "metadata": {},
   "outputs": [
    {
     "ename": "TypeError",
     "evalue": "'tuple' object does not support item assignment",
     "output_type": "error",
     "traceback": [
      "\u001b[1;31m---------------------------------------------------------------------------\u001b[0m",
      "\u001b[1;31mTypeError\u001b[0m                                 Traceback (most recent call last)",
      "\u001b[1;32m<ipython-input-15-adcdd4a22b60>\u001b[0m in \u001b[0;36m<module>\u001b[1;34m\u001b[0m\n\u001b[1;32m----> 1\u001b[1;33m \u001b[0mmy_tuple\u001b[0m\u001b[1;33m[\u001b[0m\u001b[1;36m0\u001b[0m\u001b[1;33m]\u001b[0m \u001b[1;33m=\u001b[0m \u001b[1;36m4\u001b[0m\u001b[1;33m\u001b[0m\u001b[1;33m\u001b[0m\u001b[0m\n\u001b[0m",
      "\u001b[1;31mTypeError\u001b[0m: 'tuple' object does not support item assignment"
     ]
    }
   ],
   "source": [
    "my_tuple[0] = 4"
   ]
  },
  {
   "cell_type": "code",
   "execution_count": 16,
   "metadata": {},
   "outputs": [
    {
     "name": "stdout",
     "output_type": "stream",
     "text": [
      "{'country': ['Ghana', 'Iran', 'US', 'Brazil'], 'airTemp': [25, 39, -5, 38]}\n"
     ]
    }
   ],
   "source": [
    "# DICTIONARY {name:value} pairs # can call columns by name to retrieve the data\n",
    "D = {'country': ['Ghana', 'Iran', 'US', 'Brazil'],\n",
    "    'airTemp': [25, 39, -5, 38]}\n",
    "print(D)\n"
   ]
  },
  {
   "cell_type": "code",
   "execution_count": 18,
   "metadata": {},
   "outputs": [
    {
     "name": "stdout",
     "output_type": "stream",
     "text": [
      "US\n"
     ]
    }
   ],
   "source": [
    "print(D['country'] [2]) #country pulls the specific country names"
   ]
  },
  {
   "cell_type": "code",
   "execution_count": 20,
   "metadata": {},
   "outputs": [
    {
     "name": "stdout",
     "output_type": "stream",
     "text": [
      "{'A', 'T', 'G'}\n"
     ]
    }
   ],
   "source": [
    "# SETS \n",
    "DNA = set('ATGGTA') #gives the unique elimates \n",
    "print(DNA)"
   ]
  },
  {
   "cell_type": "code",
   "execution_count": null,
   "metadata": {},
   "outputs": [],
   "source": []
  }
 ],
 "metadata": {
  "kernelspec": {
   "display_name": "Python 3",
   "language": "python",
   "name": "python3"
  },
  "language_info": {
   "codemirror_mode": {
    "name": "ipython",
    "version": 3
   },
   "file_extension": ".py",
   "mimetype": "text/x-python",
   "name": "python",
   "nbconvert_exporter": "python",
   "pygments_lexer": "ipython3",
   "version": "3.7.4"
  }
 },
 "nbformat": 4,
 "nbformat_minor": 4
}
