{
 "cells": [
  {
   "cell_type": "code",
   "execution_count": 3,
   "metadata": {},
   "outputs": [
    {
     "name": "stdout",
     "output_type": "stream",
     "text": [
      "This is an ugly day\n"
     ]
    }
   ],
   "source": [
    "# if statements \n",
    "\n",
    "air_temp = 23\n",
    "\n",
    "if air_temp == 25:\n",
    "    print(\"This is a nice day\")\n",
    "else:\n",
    "    print(\"This is an ugly day\")"
   ]
  },
  {
   "cell_type": "code",
   "execution_count": 6,
   "metadata": {},
   "outputs": [
    {
     "name": "stdout",
     "output_type": "stream",
     "text": [
      "It's odd\n"
     ]
    }
   ],
   "source": [
    "# even or odd \n",
    "mynumber = 9 \n",
    "\n",
    "if mynumber % 2 == 0:\n",
    "    print(\"It's even\")\n",
    "else:\n",
    "    print(\"It's odd\")"
   ]
  },
  {
   "cell_type": "code",
   "execution_count": 14,
   "metadata": {},
   "outputs": [],
   "source": [
    "crop = 'wheat'\n",
    "\n",
    "if crop == 'corn':\n",
    "    Tbase = 8\n",
    "elif crop == 'wheat':\n",
    "    Tbase = 0\n",
    "elif crop == 'little bluestem':\n",
    "    Tbase = 10\n",
    "else:\n",
    "    print(\"Crop not found\")"
   ]
  },
  {
   "cell_type": "code",
   "execution_count": 15,
   "metadata": {},
   "outputs": [
    {
     "name": "stdout",
     "output_type": "stream",
     "text": [
      "0\n"
     ]
    }
   ],
   "source": [
    "print(Tbase)"
   ]
  },
  {
   "cell_type": "code",
   "execution_count": null,
   "metadata": {},
   "outputs": [],
   "source": []
  }
 ],
 "metadata": {
  "kernelspec": {
   "display_name": "Python 3",
   "language": "python",
   "name": "python3"
  },
  "language_info": {
   "codemirror_mode": {
    "name": "ipython",
    "version": 3
   },
   "file_extension": ".py",
   "mimetype": "text/x-python",
   "name": "python",
   "nbconvert_exporter": "python",
   "pygments_lexer": "ipython3",
   "version": "3.7.4"
  }
 },
 "nbformat": 4,
 "nbformat_minor": 4
}
