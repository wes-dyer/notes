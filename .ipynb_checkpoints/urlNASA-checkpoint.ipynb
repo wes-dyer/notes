{
 "cells": [
  {
   "cell_type": "code",
   "execution_count": 6,
   "metadata": {},
   "outputs": [],
   "source": [
    "# NASA\n"
   ]
  },
  {
   "cell_type": "code",
   "execution_count": 1,
   "metadata": {},
   "outputs": [],
   "source": [
    "import urllib, json\n",
    "import pprint as pp\n"
   ]
  },
  {
   "cell_type": "code",
   "execution_count": 2,
   "metadata": {},
   "outputs": [],
   "source": [
    "api_key ='bcWrUEFtrLzYtibw5rzWgoed8MwoaS4Ujpyq2l27'\n",
    "api_root = 'https://api.nasa.gov/'\n",
    "api_product = 'insight_weather'\n",
    "url = api_root + api_product + '/?' 'feedtype=json&ver=1.0' + '&' + 'api_key=' + api_key"
   ]
  },
  {
   "cell_type": "code",
   "execution_count": 3,
   "metadata": {},
   "outputs": [
    {
     "data": {
      "text/plain": [
       "'https://api.nasa.gov/insight_weather/?feedtype=json&ver=1.0&api_key=bcWrUEFtrLzYtibw5rzWgoed8MwoaS4Ujpyq2l27'"
      ]
     },
     "execution_count": 3,
     "metadata": {},
     "output_type": "execute_result"
    }
   ],
   "source": [
    "url"
   ]
  },
  {
   "cell_type": "code",
   "execution_count": 4,
   "metadata": {},
   "outputs": [
    {
     "name": "stdout",
     "output_type": "stream",
     "text": [
      "{'AT': {'av': -59.704, 'ct': 318770, 'mn': -92.554, 'mx': -11.13},\n",
      " 'First_UTC': '2020-02-28T12:06:25Z',\n",
      " 'HWS': {'av': 5.901, 'ct': 146713, 'mn': 0.285, 'mx': 20.2},\n",
      " 'Last_UTC': '2020-02-29T12:45:59Z',\n",
      " 'PRE': {'av': 630.329, 'ct': 159018, 'mn': 603.0648, 'mx': 653.5615},\n",
      " 'Season': 'summer',\n",
      " 'WD': {'0': {'compass_degrees': 0.0,\n",
      "              'compass_point': 'N',\n",
      "              'compass_right': 0.0,\n",
      "              'compass_up': 1.0,\n",
      "              'ct': 1378},\n",
      "        '1': {'compass_degrees': 22.5,\n",
      "              'compass_point': 'NNE',\n",
      "              'compass_right': 0.382683432365,\n",
      "              'compass_up': 0.923879532511,\n",
      "              'ct': 1180},\n",
      "        '10': {'compass_degrees': 225.0,\n",
      "               'compass_point': 'SW',\n",
      "               'compass_right': -0.707106781187,\n",
      "               'compass_up': -0.707106781187,\n",
      "               'ct': 12567},\n",
      "        '11': {'compass_degrees': 247.5,\n",
      "               'compass_point': 'WSW',\n",
      "               'compass_right': -0.923879532511,\n",
      "               'compass_up': -0.382683432365,\n",
      "               'ct': 1286},\n",
      "        '12': {'compass_degrees': 270.0,\n",
      "               'compass_point': 'W',\n",
      "               'compass_right': -1.0,\n",
      "               'compass_up': -0.0,\n",
      "               'ct': 3632},\n",
      "        '13': {'compass_degrees': 292.5,\n",
      "               'compass_point': 'WNW',\n",
      "               'compass_right': -0.923879532511,\n",
      "               'compass_up': 0.382683432365,\n",
      "               'ct': 30232},\n",
      "        '14': {'compass_degrees': 315.0,\n",
      "               'compass_point': 'NW',\n",
      "               'compass_right': -0.707106781187,\n",
      "               'compass_up': 0.707106781187,\n",
      "               'ct': 1542},\n",
      "        '15': {'compass_degrees': 337.5,\n",
      "               'compass_point': 'NNW',\n",
      "               'compass_right': -0.382683432365,\n",
      "               'compass_up': 0.923879532511,\n",
      "               'ct': 798},\n",
      "        '2': {'compass_degrees': 45.0,\n",
      "              'compass_point': 'NE',\n",
      "              'compass_right': 0.707106781187,\n",
      "              'compass_up': 0.707106781187,\n",
      "              'ct': 232},\n",
      "        '3': {'compass_degrees': 67.5,\n",
      "              'compass_point': 'ENE',\n",
      "              'compass_right': 0.923879532511,\n",
      "              'compass_up': 0.382683432365,\n",
      "              'ct': 2382},\n",
      "        '5': {'compass_degrees': 112.5,\n",
      "              'compass_point': 'ESE',\n",
      "              'compass_right': 0.923879532511,\n",
      "              'compass_up': -0.382683432365,\n",
      "              'ct': 7775},\n",
      "        '6': {'compass_degrees': 135.0,\n",
      "              'compass_point': 'SE',\n",
      "              'compass_right': 0.707106781187,\n",
      "              'compass_up': -0.707106781187,\n",
      "              'ct': 9786},\n",
      "        '7': {'compass_degrees': 157.5,\n",
      "              'compass_point': 'SSE',\n",
      "              'compass_right': 0.382683432365,\n",
      "              'compass_up': -0.923879532511,\n",
      "              'ct': 27287},\n",
      "        '8': {'compass_degrees': 180.0,\n",
      "              'compass_point': 'S',\n",
      "              'compass_right': 0.0,\n",
      "              'compass_up': -1.0,\n",
      "              'ct': 18087},\n",
      "        '9': {'compass_degrees': 202.5,\n",
      "              'compass_point': 'SSW',\n",
      "              'compass_right': -0.382683432365,\n",
      "              'compass_up': -0.923879532511,\n",
      "              'ct': 28549},\n",
      "        'most_common': {'compass_degrees': 292.5,\n",
      "                        'compass_point': 'WNW',\n",
      "                        'compass_right': -0.923879532511,\n",
      "                        'compass_up': 0.382683432365,\n",
      "                        'ct': 30232}}}\n"
     ]
    }
   ],
   "source": [
    "json_url = urllib.request.urlopen(url)\n",
    "data = json.loads(json_url.read())\n",
    "\n",
    "pp.pprint(data['447'])\n"
   ]
  },
  {
   "cell_type": "code",
   "execution_count": 5,
   "metadata": {},
   "outputs": [
    {
     "data": {
      "text/plain": [
       "dict_keys(['444', '445', '446', '447', '448', '449', '450', 'sol_keys', 'validity_checks'])"
      ]
     },
     "execution_count": 5,
     "metadata": {},
     "output_type": "execute_result"
    }
   ],
   "source": [
    "data.keys()"
   ]
  },
  {
   "cell_type": "code",
   "execution_count": 6,
   "metadata": {},
   "outputs": [
    {
     "name": "stdout",
     "output_type": "stream",
     "text": [
      "-67.186\n"
     ]
    }
   ],
   "source": [
    "pp.pprint(data['444']['AT']['av']) "
   ]
  },
  {
   "cell_type": "code",
   "execution_count": 15,
   "metadata": {},
   "outputs": [],
   "source": [
    "keys = data['sol_keys'] # change string to numbers "
   ]
  },
  {
   "cell_type": "code",
   "execution_count": 8,
   "metadata": {},
   "outputs": [],
   "source": [
    "# plot air temp for last each day"
   ]
  },
  {
   "cell_type": "code",
   "execution_count": 9,
   "metadata": {},
   "outputs": [
    {
     "name": "stdout",
     "output_type": "stream",
     "text": [
      "[-67.186, -64.969, -57.431, -59.704, -63.954, -57.232, -63.353]\n"
     ]
    }
   ],
   "source": [
    "air_temp = []\n",
    "for i in data['sol_keys']:\n",
    "    \n",
    "    air_temp.append((data[i]['AT']['av']))\n",
    "\n",
    "print(air_temp)"
   ]
  },
  {
   "cell_type": "code",
   "execution_count": 16,
   "metadata": {},
   "outputs": [
    {
     "data": {
      "text/plain": [
       "[<matplotlib.lines.Line2D at 0x1cc2d7d9d48>]"
      ]
     },
     "execution_count": 16,
     "metadata": {},
     "output_type": "execute_result"
    },
    {
     "data": {
      "image/png": "[encoded data removed]",
      "text/plain": [
       "<Figure size 432x288 with 1 Axes>"
      ]
     },
     "metadata": {
      "needs_background": "light"
     },
     "output_type": "display_data"
    }
   ],
   "source": [
    "import matplotlib.pyplot as plt\n",
    "\n",
    "plt.plot(keys,air_temp)"
   ]
  },
  {
   "cell_type": "code",
   "execution_count": null,
   "metadata": {},
   "outputs": [],
   "source": []
  }
 ],
 "metadata": {
  "kernelspec": {
   "display_name": "Python 3",
   "language": "python",
   "name": "python3"
  },
  "language_info": {
   "codemirror_mode": {
    "name": "ipython",
    "version": 3
   },
   "file_extension": ".py",
   "mimetype": "text/x-python",
   "name": "python",
   "nbconvert_exporter": "python",
   "pygments_lexer": "ipython3",
   "version": "3.7.4"
  }
 },
 "nbformat": 4,
 "nbformat_minor": 4
}
