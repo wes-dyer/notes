{
 "cells": [
  {
   "cell_type": "code",
   "execution_count": 6,
   "metadata": {},
   "outputs": [
    {
     "name": "stdin",
     "output_type": "stream",
     "text": [
      "Enter your name: Wesley\n"
     ]
    },
    {
     "name": "stdout",
     "output_type": "stream",
     "text": [
      "Wesley\n"
     ]
    }
   ],
   "source": [
    "# Inputs from user\n",
    "name = input(\"Enter your name:\")\n",
    "print(name)"
   ]
  },
  {
   "cell_type": "code",
   "execution_count": 8,
   "metadata": {},
   "outputs": [
    {
     "name": "stdin",
     "output_type": "stream",
     "text": [
      "Enter mass of dry soil (g): 40\n",
      "Enter blank reading (g/L): 5\n",
      "Enter first reading (g/L): 35\n",
      "Enter second reading (g/L): 20\n"
     ]
    },
    {
     "name": "stdout",
     "output_type": "stream",
     "text": [
      "Sand: 12%, Silt: 38%, Clay: 50%\n"
     ]
    }
   ],
   "source": [
    "# Request mass of dry soil \n",
    "mass_dry_soil = input(\"Enter mass of dry soil (g):\") #this is a string, need to convert to a number\n",
    "mass_dry_soil = float(mass_dry_soil) #float converts to a number\n",
    "\n",
    "# Request reading of blanck \n",
    "blank_reading = float(input('Enter blank reading (g/L):'))\n",
    "\n",
    "#First reading \n",
    "first_reading = input('Enter first reading (g/L):')\n",
    "first_reading = float(first_reading)\n",
    "\n",
    "second_reading = input('Enter second reading (g/L):')\n",
    "second_reading = float(second_reading)\n",
    "\n",
    "sand_content = round((mass_dry_soil - first_reading)/mass_dry_soil * 100)\n",
    "clay_content = round(second_reading / mass_dry_soil* 100)\n",
    "silt_content = 100 - sand_content - clay_content\n",
    "\n",
    "print('Sand: {sand}%, Silt: {silt}%, Clay: {clay}%'\n",
    "      .format(sand=sand_content, \n",
    "              silt=silt_content, \n",
    "              clay=clay_content))            "
   ]
  },
  {
   "cell_type": "code",
   "execution_count": null,
   "metadata": {},
   "outputs": [],
   "source": []
  }
 ],
 "metadata": {
  "kernelspec": {
   "display_name": "Python 3",
   "language": "python",
   "name": "python3"
  },
  "language_info": {
   "codemirror_mode": {
    "name": "ipython",
    "version": 3
   },
   "file_extension": ".py",
   "mimetype": "text/x-python",
   "name": "python",
   "nbconvert_exporter": "python",
   "pygments_lexer": "ipython3",
   "version": "3.7.4"
  }
 },
 "nbformat": 4,
 "nbformat_minor": 4
}
